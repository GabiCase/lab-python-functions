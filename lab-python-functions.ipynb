{
 "cells": [
  {
   "cell_type": "markdown",
   "id": "25d7736c-ba17-4aff-b6bb-66eba20fbf4e",
   "metadata": {},
   "source": [
    "# Lab | Functions"
   ]
  },
  {
   "cell_type": "markdown",
   "id": "0c581062-8967-4d93-b06e-62833222f930",
   "metadata": {
    "tags": []
   },
   "source": [
    "## Exercise: Managing Customer Orders with Functions\n",
    "\n",
    "In the previous exercise, you improved the code for managing customer orders by using loops and flow control. Now, let's take it a step further and refactor the code by introducing functions.\n",
    "\n",
    "Follow the steps below to complete the exercise:\n",
    "\n",
    "1. Define a function named `initialize_inventory` that takes `products` as a parameter. Inside the function, implement the code for initializing the inventory dictionary using a loop and user input.\n",
    "\n",
    "2. Define a function named `get_customer_orders` that takes no parameters. Inside the function, implement the code for prompting the user to enter the product names using a loop. The function should return the `customer_orders` set.\n",
    "\n",
    "3. Define a function named `update_inventory` that takes `customer_orders` and `inventory` as parameters. Inside the function, implement the code for updating the inventory dictionary based on the customer orders.\n",
    "\n",
    "4. Define a function named `calculate_order_statistics` that takes `customer_orders` and `products` as parameters. Inside the function, implement the code for calculating the order statistics (total products ordered, and percentage of unique products ordered). The function should return these values.\n",
    "\n",
    "5. Define a function named `print_order_statistics` that takes `order_statistics` as a parameter. Inside the function, implement the code for printing the order statistics.\n",
    "\n",
    "6. Define a function named `print_updated_inventory` that takes `inventory` as a parameter. Inside the function, implement the code for printing the updated inventory.\n",
    "\n",
    "7. Call the functions in the appropriate sequence to execute the program and manage customer orders.\n",
    "\n",
    "Hints for functions:\n",
    "\n",
    "- Consider the input parameters required for each function and their return values.\n",
    "- Utilize function parameters and return values to transfer data between functions.\n",
    "- Test your functions individually to ensure they work correctly.\n",
    "\n",
    "\n"
   ]
  },
  {
   "cell_type": "markdown",
   "id": "4ee49822",
   "metadata": {},
   "source": [
    "## Exercise: Managing Customer Orders with Functions\n",
    "\n",
    "In the previous exercise, you improved the code for managing customer orders by using loops and flow control. Now, let's take it a step further and refactor the code by introducing functions.\n",
    "\n",
    "Follow the steps below to complete the exercise:\n",
    "\n",
    "1. Define a function named `initialize_inventory` that takes `products` as a parameter. Inside the function, implement the code for initializing the inventory dictionary using a loop and user input."
   ]
  },
  {
   "cell_type": "code",
   "execution_count": 3,
   "id": "ff0fee6f",
   "metadata": {},
   "outputs": [],
   "source": [
    "\n",
    "\n",
    "def initialize_inventory(prods):\n",
    "    inventory = {}\n",
    "    for product in prods:\n",
    "        inventory[product] = int(input(f\"How many {product}s do you have? \"))\n",
    "    return inventory\n"
   ]
  },
  {
   "cell_type": "markdown",
   "id": "168e95e1",
   "metadata": {},
   "source": [
    "2. Define a function named `get_customer_orders` that takes no parameters. Inside the function, implement the code for prompting the user to enter the product names using a loop. The function should return the `customer_orders` set."
   ]
  },
  {
   "cell_type": "code",
   "execution_count": 5,
   "id": "8a445033",
   "metadata": {},
   "outputs": [],
   "source": [
    "def get_customer_orders():\n",
    "\n",
    "    customer_orders=set()\n",
    "\n",
    "    while True:\n",
    "\n",
    "        answer = input(\"Do you want to buy something? \")\n",
    "\n",
    "        if answer == \"yes\":\n",
    "\n",
    "            product_purchased=input(\"Chose a product: \")\n",
    "            customer_orders.add(product_purchased)\n",
    "        \n",
    "        elif answer==\"no\":\n",
    "            print(\"Thank you\")\n",
    "            return customer_orders\n",
    "\n",
    "        else:\n",
    "            print(\"Please chose yes or not\")\n",
    "\n",
    "    "
   ]
  },
  {
   "cell_type": "markdown",
   "id": "9a466875",
   "metadata": {},
   "source": [
    "3. Define a function named `update_inventory` that takes `customer_orders` and `inventory` as parameters. Inside the function, implement the code for updating the inventory dictionary based on the customer orders."
   ]
  },
  {
   "cell_type": "code",
   "execution_count": 6,
   "id": "e9cd4109",
   "metadata": {},
   "outputs": [],
   "source": [
    "def update_inventory(customer_orders,inventory):\n",
    "    for order in customer_orders:\n",
    "        if order in inventory:\n",
    "            inventory[order] -= 1\n",
    "    return inventory"
   ]
  },
  {
   "cell_type": "markdown",
   "id": "3ec1e751",
   "metadata": {},
   "source": [
    "4. Define a function named `calculate_order_statistics` that takes `customer_orders` and `products` as parameters. Inside the function, implement the code for calculating the order statistics (total products ordered, and percentage of unique products ordered). The function should return these values."
   ]
  },
  {
   "cell_type": "code",
   "execution_count": 17,
   "id": "0ef53a4c",
   "metadata": {},
   "outputs": [],
   "source": [
    "def calculate_order_statistics(customer_orders,products):\n",
    "    total_products_ordered=len(customer_orders)\n",
    "    percentage_unique_products_ordered = int(total_products_ordered*100/len(products))\n",
    "    order_statistics =(total_products_ordered, percentage_unique_products_ordered)\n",
    "    return order_statistics\n",
    "    "
   ]
  },
  {
   "cell_type": "markdown",
   "id": "474ea7e9",
   "metadata": {},
   "source": [
    "5. Define a function named `print_order_statistics` that takes `order_statistics` as a parameter. Inside the function, implement the code for printing the order statistics."
   ]
  },
  {
   "cell_type": "code",
   "execution_count": 21,
   "id": "6835d00b",
   "metadata": {},
   "outputs": [],
   "source": [
    "def print_order_statistics(order_statistics):\n",
    "    print(f\"{order_statistics[0]} products have been bought,\\n which means that {order_statistics[1]}% of the different types of products in the store have been purchased\")"
   ]
  },
  {
   "cell_type": "markdown",
   "id": "242722ec",
   "metadata": {},
   "source": [
    "6. Define a function named `print_updated_inventory` that takes `inventory` as a parameter. Inside the function, implement the code for printing the updated inventory."
   ]
  },
  {
   "cell_type": "code",
   "execution_count": 9,
   "id": "131cf220",
   "metadata": {},
   "outputs": [],
   "source": [
    "def print_updated_inventory(inventory):\n",
    "    print(inventory)"
   ]
  },
  {
   "cell_type": "markdown",
   "id": "5ace8fc1",
   "metadata": {},
   "source": [
    "7. Call the functions in the appropriate sequence to execute the program and manage customer orders."
   ]
  },
  {
   "cell_type": "code",
   "execution_count": 22,
   "id": "adea59df",
   "metadata": {},
   "outputs": [
    {
     "name": "stdout",
     "output_type": "stream",
     "text": [
      "Thank you\n",
      "1 products have been bought,\n",
      " which means that 20% of the different types of products in the store have been purchased\n",
      "{'t-shirt': 5, 'mug': 5, 'hat': 5, 'book': 4, 'keychain': 9}\n"
     ]
    }
   ],
   "source": [
    "products = [\"t-shirt\", \"mug\", \"hat\", \"book\", \"keychain\"]\n",
    "\n",
    "inventory= initialize_inventory(products)\n",
    "\n",
    "customer_orders=get_customer_orders()\n",
    "\n",
    "updated_inventory= update_inventory(customer_orders,inventory)\n",
    "\n",
    "order_statistics= calculate_order_statistics(customer_orders, products)\n",
    "\n",
    "print_order_statistics(order_statistics)\n",
    "\n",
    "print_updated_inventory(updated_inventory)\n"
   ]
  }
 ],
 "metadata": {
  "kernelspec": {
   "display_name": "Python 3 (ipykernel)",
   "language": "python",
   "name": "python3"
  },
  "language_info": {
   "codemirror_mode": {
    "name": "ipython",
    "version": 3
   },
   "file_extension": ".py",
   "mimetype": "text/x-python",
   "name": "python",
   "nbconvert_exporter": "python",
   "pygments_lexer": "ipython3",
   "version": "3.12.4"
  }
 },
 "nbformat": 4,
 "nbformat_minor": 5
}
